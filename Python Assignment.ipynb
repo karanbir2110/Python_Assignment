{
 "cells": [
  {
   "cell_type": "code",
   "execution_count": 1,
   "id": "a08aebc9-58ec-4c4d-bab3-d2e622c5a513",
   "metadata": {},
   "outputs": [],
   "source": [
    "#Q1\n",
    "L = [11,12,13,14]"
   ]
  },
  {
   "cell_type": "code",
   "execution_count": 3,
   "id": "c0f991b2-355c-43cc-a781-7b70256dfa23",
   "metadata": {},
   "outputs": [],
   "source": [
    "L.insert(4,50)"
   ]
  },
  {
   "cell_type": "code",
   "execution_count": 4,
   "id": "bcecc616-4f79-4240-9fe9-c3034d742948",
   "metadata": {},
   "outputs": [],
   "source": [
    "L.insert(5,60)"
   ]
  },
  {
   "cell_type": "code",
   "execution_count": 5,
   "id": "4234424e-de71-4e41-9760-b837172f1cc4",
   "metadata": {},
   "outputs": [
    {
     "data": {
      "text/plain": [
       "[11, 12, 13, 14, 50, 60]"
      ]
     },
     "execution_count": 5,
     "metadata": {},
     "output_type": "execute_result"
    }
   ],
   "source": [
    "L"
   ]
  },
  {
   "cell_type": "code",
   "execution_count": 9,
   "id": "39b0115a-d9d4-47cf-9095-e045bbc8c4c5",
   "metadata": {},
   "outputs": [],
   "source": [
    "del L[0]"
   ]
  },
  {
   "cell_type": "code",
   "execution_count": 10,
   "id": "1008d2bd-dd24-4977-af70-92d48e0d58f3",
   "metadata": {},
   "outputs": [],
   "source": [
    "del L[1]"
   ]
  },
  {
   "cell_type": "code",
   "execution_count": 11,
   "id": "920979e2-33b4-4f4b-a5d1-23a6781aa294",
   "metadata": {},
   "outputs": [
    {
     "data": {
      "text/plain": [
       "[12, 14, 50, 60]"
      ]
     },
     "execution_count": 11,
     "metadata": {},
     "output_type": "execute_result"
    }
   ],
   "source": [
    "L"
   ]
  },
  {
   "cell_type": "code",
   "execution_count": 12,
   "id": "67caf2ee-37b7-4d96-95d9-09232862f9f1",
   "metadata": {},
   "outputs": [],
   "source": [
    "L.sort()"
   ]
  },
  {
   "cell_type": "code",
   "execution_count": 13,
   "id": "22079b90-8a81-4d1a-a663-4fd743728a48",
   "metadata": {},
   "outputs": [
    {
     "data": {
      "text/plain": [
       "[12, 14, 50, 60]"
      ]
     },
     "execution_count": 13,
     "metadata": {},
     "output_type": "execute_result"
    }
   ],
   "source": [
    "L"
   ]
  },
  {
   "cell_type": "code",
   "execution_count": 15,
   "id": "06373ea1-a2e5-4f69-995f-7febae0951be",
   "metadata": {},
   "outputs": [],
   "source": [
    "L.sort(reverse= True)"
   ]
  },
  {
   "cell_type": "code",
   "execution_count": 16,
   "id": "321bd60a-e171-4c02-9b30-6f778362e798",
   "metadata": {},
   "outputs": [
    {
     "data": {
      "text/plain": [
       "[60, 50, 14, 12]"
      ]
     },
     "execution_count": 16,
     "metadata": {},
     "output_type": "execute_result"
    }
   ],
   "source": [
    "L"
   ]
  },
  {
   "cell_type": "code",
   "execution_count": 20,
   "id": "8544f1c1-0a9f-4f2a-abee-ee1066d7cb78",
   "metadata": {},
   "outputs": [
    {
     "name": "stdout",
     "output_type": "stream",
     "text": [
      "False\n"
     ]
    }
   ],
   "source": [
    "if (13 in L) == True:\n",
    "    print(\"Present\")\n",
    "else:\n",
    "    print(\"False\")"
   ]
  },
  {
   "cell_type": "code",
   "execution_count": 26,
   "id": "0199f7c1-ef7b-4e05-9fda-23404aea8bc0",
   "metadata": {},
   "outputs": [
    {
     "name": "stdout",
     "output_type": "stream",
     "text": [
      "12\n"
     ]
    }
   ],
   "source": [
    "i = 0\n",
    "for i in L:\n",
    "    if i <= len(L):\n",
    "        i = i+1\n",
    "\n",
    "print(i)"
   ]
  },
  {
   "cell_type": "code",
   "execution_count": 27,
   "id": "628af6ba-2bd7-4cd6-b78a-61a155528704",
   "metadata": {},
   "outputs": [
    {
     "data": {
      "text/plain": [
       "4"
      ]
     },
     "execution_count": 27,
     "metadata": {},
     "output_type": "execute_result"
    }
   ],
   "source": [
    "len(L)"
   ]
  },
  {
   "cell_type": "code",
   "execution_count": 28,
   "id": "30f57308-11df-41b0-9dad-2b90d67c4069",
   "metadata": {},
   "outputs": [
    {
     "data": {
      "text/plain": [
       "136"
      ]
     },
     "execution_count": 28,
     "metadata": {},
     "output_type": "execute_result"
    }
   ],
   "source": [
    "sum(L)"
   ]
  },
  {
   "cell_type": "code",
   "execution_count": 36,
   "id": "b1afe315-c4c0-429c-ab2e-a4bff103842b",
   "metadata": {},
   "outputs": [
    {
     "name": "stdout",
     "output_type": "stream",
     "text": [
      "0\n"
     ]
    }
   ],
   "source": [
    "j = 0\n",
    "for i in L:\n",
    "    if i%2 == 1:\n",
    "        j = j + i\n",
    "        \n",
    "print(j)"
   ]
  },
  {
   "cell_type": "code",
   "execution_count": 37,
   "id": "f0801fdf-cd99-4c67-a9bd-e03b3a1de33a",
   "metadata": {},
   "outputs": [
    {
     "name": "stdout",
     "output_type": "stream",
     "text": [
      "136\n"
     ]
    }
   ],
   "source": [
    "j = 0\n",
    "for i in L:\n",
    "    if i%2 == 0:\n",
    "        j = j + i\n",
    "        \n",
    "print(j)"
   ]
  },
  {
   "cell_type": "code",
   "execution_count": 39,
   "id": "a69bf7fd-8876-49d1-a4be-5da1a95d7990",
   "metadata": {},
   "outputs": [
    {
     "name": "stdout",
     "output_type": "stream",
     "text": [
      "24\n"
     ]
    }
   ],
   "source": [
    "def is_prime(n):\n",
    "    if n < 2:\n",
    "        return False\n",
    "    for i in range(2, (n // 2) + 1):\n",
    "        if n % i == 0:\n",
    "            return False\n",
    "    return True\n",
    "\n",
    "L = [11, 12, 13, 14, 50, 60] \n",
    "prime_sum = sum(i for i in L if is_prime(i))\n",
    "print(prime_sum)\n"
   ]
  },
  {
   "cell_type": "code",
   "execution_count": 40,
   "id": "92f92ce5-d4e9-45f9-a600-b2c8b13883bb",
   "metadata": {},
   "outputs": [
    {
     "name": "stdout",
     "output_type": "stream",
     "text": [
      "False\n",
      "5\n",
      "37.4\n"
     ]
    }
   ],
   "source": [
    "#Q2\n",
    "\n",
    "D = {1:5.6, 2:7.8, 3:6.6, 4:8.7, 5:7.7}\n",
    "\n",
    "\n",
    "# (i)\n",
    "D[8] = 8.8\n",
    "\n",
    "# (ii)\n",
    "D.pop(2)\n",
    "\n",
    "# (iii)\n",
    "print(6 in D)\n",
    "\n",
    "# (iv)\n",
    "print(len(D))\n",
    "\n",
    "# (v)\n",
    "print(sum(D.values()))\n",
    "\n",
    "# (vi)\n",
    "D[3] = 7.1\n",
    "\n",
    "# (vii)\n",
    "D.clear()\n"
   ]
  },
  {
   "cell_type": "code",
   "execution_count": 44,
   "id": "8edaeadd-a109-43b4-a5ce-e4bcd48167ff",
   "metadata": {},
   "outputs": [
    {
     "name": "stdout",
     "output_type": "stream",
     "text": [
      "\n",
      "\n",
      "True\n",
      "\n",
      "{66, 70, 40, 80, 50, 20, 55, 90, 60}\n",
      "\n",
      "{40, 50, 60}\n",
      "\n",
      "{66, 20, 55}\n",
      "\n"
     ]
    }
   ],
   "source": [
    "#Q3\n",
    "S1 = {10, 20, 30, 40, 50, 60}\n",
    "S2 = {40, 50, 60, 70, 80, 90}\n",
    "\n",
    "# (i)\n",
    "S1.update([55, 66])\n",
    "print(\"\")\n",
    "# (ii)\n",
    "S1.discard(10)\n",
    "S1.discard(30)\n",
    "print(\"\")\n",
    "# (iii)\n",
    "print(40 in S1)\n",
    "print(\"\")\n",
    "# (iv)\n",
    "print(S1.union(S2))\n",
    "print(\"\")\n",
    "# (v)\n",
    "print(S1.intersection(S2))\n",
    "print(\"\")\n",
    "# (vi)\n",
    "print(S1.difference(S2))\n",
    "print(\"\")"
   ]
  },
  {
   "cell_type": "code",
   "execution_count": 43,
   "id": "94ad1ba7-85f4-48a1-b013-fb942a576ab3",
   "metadata": {},
   "outputs": [
    {
     "name": "stdout",
     "output_type": "stream",
     "text": [
      "\n",
      "uoSPNNi\n",
      "yYseoiR\n",
      "phTBlE\n",
      "sIUutfu\n",
      "dlrASWX\n",
      "XXnEoEBp\n",
      "TxpzxAn\n",
      "ukknZaI\n",
      "tzNQKg\n",
      "Solnic\n",
      "cOAZWhF\n",
      "uNvXlaYx\n",
      "GubzTj\n",
      "ERljIY\n",
      "pGUoQYSg\n",
      "unpNCoo\n",
      "MXWsVFL\n",
      "dvcUTWk\n",
      "sKtZJUx\n",
      "TzpYEi\n",
      "IvIPDtTB\n",
      "NcpwJVd\n",
      "XqLZSurP\n",
      "oZVcxcFg\n",
      "tHmqMxWn\n",
      "aPpXxzzm\n",
      "RzmvNGgG\n",
      "tkafsnJ\n",
      "nGNhdqb\n",
      "POCYuOF\n",
      "zIiomMn\n",
      "OfYWjMCf\n",
      "lShJfn\n",
      "UXfIJE\n",
      "GlbUBfr\n",
      "xhCNNB\n",
      "XeUIlxmZ\n",
      "kYBUNn\n",
      "fNDeOe\n",
      "ZXXjTO\n",
      "uyEmMIm\n",
      "AfgAjT\n",
      "VqUThEQB\n",
      "uarGHe\n",
      "wuMcBH\n",
      "hOfOsY\n",
      "UQpBiYq\n",
      "Wyxgos\n",
      "TqqXLVA\n",
      "MNaNGTzR\n",
      "nIdeGTgM\n",
      "lJtifv\n",
      "OaAiKq\n",
      "yWyWkN\n",
      "jzCGsx\n",
      "qlSOkBye\n",
      "yfpRzQv\n",
      "bNcZIPZ\n",
      "pkNkzJXn\n",
      "xzbqonDz\n",
      "oSoyXHW\n",
      "EgYlCs\n",
      "xTCgby\n",
      "yuUwRoEv\n",
      "LjFsNrJ\n",
      "kUUHda\n",
      "uapZOKB\n",
      "PIatXc\n",
      "SPwTbRf\n",
      "fkWJLaJ\n",
      "nZgcrF\n",
      "TVDWYYB\n",
      "PaNSXvWz\n",
      "vNDVxnpm\n",
      "zsNbKv\n",
      "MchApAQZ\n",
      "XWrsYkF\n",
      "mkSgRQk\n",
      "aSYBaJch\n",
      "gjBywBrJ\n",
      "kdsEzkE\n",
      "ufwTOT\n",
      "YuKmHUE\n",
      "nEqcULu\n",
      "kjoLGI\n",
      "muNTevJ\n",
      "DYGMaCO\n",
      "CRLfmJU\n",
      "HoDFID\n",
      "QGcXFkSp\n",
      "LvcbcXr\n",
      "MDPZHpr\n",
      "xvVthhp\n",
      "HEEpTX\n",
      "qqTMXY\n",
      "gTCVXLxm\n",
      "eoakDI\n",
      "LHrWBzq\n",
      "BEGcSu\n",
      "iPlnuasX\n",
      "\n",
      "601\n",
      "607\n",
      "613\n",
      "617\n",
      "619\n",
      "631\n",
      "641\n",
      "643\n",
      "647\n",
      "653\n",
      "659\n",
      "661\n",
      "673\n",
      "677\n",
      "683\n",
      "691\n",
      "701\n",
      "709\n",
      "719\n",
      "727\n",
      "733\n",
      "739\n",
      "743\n",
      "751\n",
      "757\n",
      "761\n",
      "769\n",
      "773\n",
      "787\n",
      "797\n",
      "\n",
      "126\n",
      "189\n",
      "252\n",
      "315\n",
      "378\n",
      "441\n",
      "504\n",
      "567\n",
      "630\n",
      "693\n",
      "756\n",
      "819\n",
      "882\n",
      "945\n"
     ]
    }
   ],
   "source": [
    "#Q4\n",
    "import random\n",
    "import string\n",
    "print(\"\")\n",
    "# (i)\n",
    "for _ in range(100):\n",
    "    length = random.randint(6, 8)\n",
    "    print(''.join(random.choices(string.ascii_letters, k=length)))\n",
    "\n",
    "print(\"\")\n",
    "# (ii)\n",
    "for num in range(600, 801):\n",
    "    if is_prime(num):\n",
    "        print(num)\n",
    "print(\"\")\n",
    "# (iii)\n",
    "for num in range(100, 1001):\n",
    "    if num % 7 == 0 and num % 9 == 0:\n",
    "        print(num)\n"
   ]
  },
  {
   "cell_type": "code",
   "execution_count": 45,
   "id": "ce95e2d6-3c9e-48e8-b35c-98f7d5c0b6ff",
   "metadata": {},
   "outputs": [
    {
     "name": "stdout",
     "output_type": "stream",
     "text": [
      "{19, 15, 23}\n",
      "{12, 14, 16, 17, 21, 26, 27, 29}\n",
      "14 12\n",
      "29 27\n",
      "382\n"
     ]
    }
   ],
   "source": [
    "#Q5\n",
    "L1 = [random.randint(10, 30) for _ in range(10)]\n",
    "L2 = [random.randint(10, 30) for _ in range(10)]\n",
    "\n",
    "# (i)\n",
    "print(set(L1).intersection(L2))\n",
    "\n",
    "# (ii)\n",
    "print(set(L1).symmetric_difference(L2))\n",
    "\n",
    "# (iii)\n",
    "print(min(L1), min(L2))\n",
    "\n",
    "# (iv)\n",
    "print(max(L1), max(L2))\n",
    "\n",
    "# (v)\n",
    "print(sum(L1) + sum(L2))\n"
   ]
  },
  {
   "cell_type": "code",
   "execution_count": 46,
   "id": "5223fabf-fb91-40ed-97f3-765a88ed997f",
   "metadata": {},
   "outputs": [
    {
     "name": "stdout",
     "output_type": "stream",
     "text": [
      "[155, 843, 125, 489, 279, 835, 229, 825, 807, 427, 247, 157, 807, 121, 757, 403, 695, 233, 851, 743, 877, 173, 561, 635, 865, 747, 777, 881, 575, 637, 767, 871, 225, 645, 635, 235, 239, 243, 379, 727, 779, 425, 699, 439]\n",
      "[416, 684, 150, 640, 848, 770, 124, 838, 688, 702, 762, 886, 408, 330, 264, 468, 698, 444, 506, 682, 840, 870, 270, 730, 816, 204, 758, 122, 836, 714, 334, 466, 318, 762, 726, 260, 688, 126, 434, 612, 218, 270, 180, 538, 682, 390, 298, 126, 188, 494, 854, 552, 304, 686, 276, 392]\n",
      "[229, 157, 757, 233, 743, 877, 173, 881, 239, 379, 727, 439]\n"
     ]
    }
   ],
   "source": [
    "#Q6\n",
    "nums = [random.randint(100, 900) for _ in range(100)]\n",
    "\n",
    "# (i)\n",
    "print([n for n in nums if n % 2 != 0])\n",
    "\n",
    "# (ii)\n",
    "print([n for n in nums if n % 2 == 0])\n",
    "\n",
    "# (iii)\n",
    "print([n for n in nums if is_prime(n)])\n"
   ]
  },
  {
   "cell_type": "code",
   "execution_count": 47,
   "id": "c7f50b00-0898-4df4-a21b-4cdc631d09db",
   "metadata": {},
   "outputs": [],
   "source": [
    "#Q7\n",
    "D = {1:\"One\", 2:\"Two\", 3:\"Three\", 4:\"Four\", 5:\"Five\"}\n",
    "\n",
    "with open(\"output7.txt\", \"w\") as f:\n",
    "    for k, v in D.items():\n",
    "        f.write(f\"{k}, {v}\\n\")\n",
    "\n"
   ]
  },
  {
   "cell_type": "code",
   "execution_count": 48,
   "id": "1fb9b23d-468c-4485-bbf3-4b0122dfa90c",
   "metadata": {},
   "outputs": [],
   "source": [
    "#Q8\n",
    "L = [\"One\", \"Two\", \"Three\", \"Four\", \"Five\"]\n",
    "\n",
    "with open(\"output8.txt\", \"w\") as f:\n",
    "    for word in L:\n",
    "        f.write(f\"{word}, {len(word)}\\n\")\n"
   ]
  },
  {
   "cell_type": "code",
   "execution_count": 49,
   "id": "7f41a273-0b9a-49b3-bb6f-f13807b68119",
   "metadata": {},
   "outputs": [],
   "source": [
    "#Q9\n",
    "with open(\"output9.txt\", \"w\") as f:\n",
    "    for _ in range(100):\n",
    "        length = random.randint(10, 15)\n",
    "        s = ''.join(random.choices(string.ascii_letters, k=length))\n",
    "        f.write(s + '\\n')\n"
   ]
  },
  {
   "cell_type": "code",
   "execution_count": 50,
   "id": "45d55065-5374-4b19-9020-6dee4ea18e7d",
   "metadata": {},
   "outputs": [],
   "source": [
    "#Q10\n",
    "with open(\"output10.txt\", \"w\") as f:\n",
    "    for num in range(600, 801):\n",
    "        if is_prime(num):\n",
    "            f.write(str(num) + '\\n')\n"
   ]
  },
  {
   "cell_type": "code",
   "execution_count": 51,
   "id": "ccc5b759-94e2-40f5-9b1e-738ea6d3481a",
   "metadata": {},
   "outputs": [
    {
     "name": "stdout",
     "output_type": "stream",
     "text": [
      "Time taken: 0.0319523811340332\n"
     ]
    }
   ],
   "source": [
    "#Q11\n",
    "import time\n",
    "\n",
    "start = time.time()\n",
    "\n",
    "sum(range(1000000))\n",
    "\n",
    "end = time.time()\n",
    "\n",
    "print(\"Time taken:\", end - start)\n"
   ]
  },
  {
   "cell_type": "code",
   "execution_count": 52,
   "id": "ab1d1fca-ece6-498e-9fdb-12f241494c4f",
   "metadata": {},
   "outputs": [
    {
     "data": {
      "image/png": "[encoded data removed]",
      "text/plain": [
       "<Figure size 640x480 with 1 Axes>"
      ]
     },
     "metadata": {},
     "output_type": "display_data"
    }
   ],
   "source": [
    "#Q12\n",
    "import matplotlib.pyplot as plt\n",
    "\n",
    "sizes = [5000, 10000, 15000, 20000, 25000]\n",
    "times = []\n",
    "\n",
    "for size in sizes:\n",
    "    lst = [random.randint(0, 100000) for _ in range(size)]\n",
    "    start = time.time()\n",
    "    lst.sort()\n",
    "    end = time.time()\n",
    "    times.append(end - start)\n",
    "\n",
    "plt.plot(sizes, times, marker='o')\n",
    "plt.xlabel(\"Number of elements\")\n",
    "plt.ylabel(\"Time taken (seconds)\")\n",
    "plt.title(\"Sorting Performance\")\n",
    "plt.grid(True)\n",
    "plt.show()\n"
   ]
  },
  {
   "cell_type": "code",
   "execution_count": 53,
   "id": "a7421c41-7e0a-4817-adeb-31dc83e5c503",
   "metadata": {},
   "outputs": [
    {
     "name": "stdout",
     "output_type": "stream",
     "text": [
      "Max average: Charlie 87.8\n",
      "Min average: Bob 67.6\n"
     ]
    }
   ],
   "source": [
    "#Q13\n",
    "students = {\n",
    "    \"Alice\": [90, 85, 88, 92, 80],\n",
    "    \"Bob\": [70, 75, 65, 60, 68],\n",
    "    \"Charlie\": [88, 90, 85, 87, 89]\n",
    "}\n",
    "\n",
    "averages = {name: sum(marks)/len(marks) for name, marks in students.items()}\n",
    "\n",
    "max_student = max(averages, key=averages.get)\n",
    "min_student = min(averages, key=averages.get)\n",
    "\n",
    "print(\"Max average:\", max_student, averages[max_student])\n",
    "print(\"Min average:\", min_student, averages[min_student])\n"
   ]
  },
  {
   "cell_type": "code",
   "execution_count": null,
   "id": "b6671f1d-892a-4ac4-af4f-4085f087b128",
   "metadata": {},
   "outputs": [],
   "source": []
  }
 ],
 "metadata": {
  "kernelspec": {
   "display_name": "Python 3 (ipykernel)",
   "language": "python",
   "name": "python3"
  },
  "language_info": {
   "codemirror_mode": {
    "name": "ipython",
    "version": 3
   },
   "file_extension": ".py",
   "mimetype": "text/x-python",
   "name": "python",
   "nbconvert_exporter": "python",
   "pygments_lexer": "ipython3",
   "version": "3.11.7"
  }
 },
 "nbformat": 4,
 "nbformat_minor": 5
}
